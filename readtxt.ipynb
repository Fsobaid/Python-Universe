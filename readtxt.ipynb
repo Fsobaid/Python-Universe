{
 "cells": [
  {
   "cell_type": "markdown",
   "metadata": {},
   "source": [
    "***We have a text file of time and x,y and z coordinates. We want to import them and save each of them into arrays. Next, we wanna export them back into another text file as they were in the original file.<br>\n",
    "You may ask why we do that, for practice purposes.***"
   ]
  },
  {
   "cell_type": "code",
   "execution_count": 3,
   "metadata": {},
   "outputs": [],
   "source": [
    "%matplotlib inline\n",
    "import numpy as np\n",
    "from scipy.special import factorial, gamma\n",
    "import scipy\n",
    "import matplotlib.pyplot as plt\n",
    "from random import randint\n",
    "import math as ma\n",
    "# read from the file\n",
    "f = open('mc_xyz11.txt', 'r')\n",
    "\n",
    "# extract the contents from the txt file\n",
    "content = f.readlines()\n",
    "\n",
    "# open list variables to store the values in them\n",
    "t = np.array([])\n",
    "RX = np.array([])\n",
    "RY = np.array([])\n",
    "RZ = np.array([])\n",
    "\n",
    "# loop to go throught the values in the file\n",
    "for i in content:\n",
    "    a,b,c,d = i.split()  #a,b,c,d are the columns, we nammed them you could choose other letters\n",
    "    t= np.append(t,int(a))     # append means add the values to the list\n",
    "    RX= np.append(RX,float(b))\n",
    "    RY= np.append(RY,float(c))\n",
    "    RZ= np.append(RZ,float(d))\n"
   ]
  },
  {
   "cell_type": "code",
   "execution_count": 6,
   "metadata": {},
   "outputs": [],
   "source": [
    "f=open('mc36.txt', 'w+')\n",
    "\n",
    "for l, x, j, k in zip(t,RX, RY, RZ):\n",
    "    f.write(f'{l} {x} {j} {k}\\n')"
   ]
  },
  {
   "cell_type": "code",
   "execution_count": null,
   "metadata": {},
   "outputs": [],
   "source": []
  }
 ],
 "metadata": {
  "kernelspec": {
   "display_name": "Python 3",
   "language": "python",
   "name": "python3"
  },
  "language_info": {
   "codemirror_mode": {
    "name": "ipython",
    "version": 3
   },
   "file_extension": ".py",
   "mimetype": "text/x-python",
   "name": "python",
   "nbconvert_exporter": "python",
   "pygments_lexer": "ipython3",
   "version": "3.7.1"
  }
 },
 "nbformat": 4,
 "nbformat_minor": 2
}
