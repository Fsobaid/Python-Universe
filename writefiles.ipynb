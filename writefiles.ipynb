{
 "cells": [
  {
   "cell_type": "markdown",
   "metadata": {},
   "source": [
    "**In this file we create arrays of random numbers for x, y, and z. We would like to have them as coordinates printed into three columns, and then write them into a txt file.**"
   ]
  },
  {
   "cell_type": "code",
   "execution_count": 36,
   "metadata": {},
   "outputs": [],
   "source": [
    "# library\n",
    "%matplotlib inline\n",
    "import numpy as np\n",
    "from scipy.special import factorial, gamma\n",
    "import scipy\n",
    "import matplotlib.pyplot as plt\n",
    "from random import randint\n",
    "import math as ma\n",
    "# read from the file"
   ]
  },
  {
   "cell_type": "code",
   "execution_count": 44,
   "metadata": {},
   "outputs": [],
   "source": [
    "# create the arrays of random numbers\n",
    "x = np.random.uniform(0,1,100)\n",
    "y = np.random.uniform(0,1,100)\n",
    "z = np.random.uniform(0,1,100)"
   ]
  },
  {
   "cell_type": "code",
   "execution_count": 45,
   "metadata": {},
   "outputs": [],
   "source": [
    "# write the values into a txt file\n",
    "\n",
    "f=open('mc32.txt', 'w+')\n",
    "\n",
    "for i, j, k in zip(x, y, z):\n",
    "    f.write(f'{i} {j} {k}\\n') # the output will look like three columns x y z (\\n means next line)"
   ]
  },
  {
   "cell_type": "code",
   "execution_count": null,
   "metadata": {},
   "outputs": [],
   "source": []
  }
 ],
 "metadata": {
  "kernelspec": {
   "display_name": "Python 3",
   "language": "python",
   "name": "python3"
  },
  "language_info": {
   "codemirror_mode": {
    "name": "ipython",
    "version": 3
   },
   "file_extension": ".py",
   "mimetype": "text/x-python",
   "name": "python",
   "nbconvert_exporter": "python",
   "pygments_lexer": "ipython3",
   "version": "3.7.1"
  }
 },
 "nbformat": 4,
 "nbformat_minor": 2
}
